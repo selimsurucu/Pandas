{
  "nbformat": 4,
  "nbformat_minor": 0,
  "metadata": {
    "colab": {
      "name": "PandasBasic.ipynb",
      "version": "0.3.2",
      "provenance": [],
      "collapsed_sections": [],
      "include_colab_link": true
    },
    "kernelspec": {
      "name": "python3",
      "display_name": "Python 3"
    }
  },
  "cells": [
    {
      "cell_type": "markdown",
      "metadata": {
        "id": "view-in-github",
        "colab_type": "text"
      },
      "source": [
        "<a href=\"https://colab.research.google.com/github/selimsurucu/Pandas/blob/master/PandasBasic.ipynb\" target=\"_parent\"><img src=\"https://colab.research.google.com/assets/colab-badge.svg\" alt=\"Open In Colab\"/></a>"
      ]
    },
    {
      "metadata": {
        "id": "crQyWL62XjK2",
        "colab_type": "text"
      },
      "cell_type": "markdown",
      "source": [
        "Pandas kütühanesini import ediyoruz."
      ]
    },
    {
      "metadata": {
        "id": "CvyoyVouXiyh",
        "colab_type": "code",
        "colab": {}
      },
      "cell_type": "code",
      "source": [
        "import pandas as pd"
      ],
      "execution_count": 0,
      "outputs": []
    },
    {
      "metadata": {
        "id": "O05gwjkSXxPs",
        "colab_type": "text"
      },
      "cell_type": "markdown",
      "source": [
        "Pandas'ta çeşitli şekillerde dataframeler oluşturalabilir.\n",
        "\n",
        "\n",
        "1.   Bir dosya yükleyerek (.csv uzantılı dosyalar gibi)\n",
        "2.   Bir dictionary kullanarak\n",
        "3.   Pandas kullanılarak (Series) oluşturulabilir.\n",
        "\n"
      ]
    },
    {
      "metadata": {
        "id": "-XYv1BydYNI5",
        "colab_type": "text"
      },
      "cell_type": "markdown",
      "source": [
        "Biz dataframemizi series kullanarak oluşturacağız."
      ]
    },
    {
      "metadata": {
        "id": "RR9p8xyWY4pS",
        "colab_type": "code",
        "colab": {}
      },
      "cell_type": "code",
      "source": [
        "isimSeries = pd.Series([\"Selim\",\"Ali\",\"Veli\",\"Fatma\",\"Ayşe\",\"Zeynep\"])\n",
        "notlarSeries = pd.Series([80,75,15,48,56,75])\n",
        "okulNoSeries = pd.Series([100,101,102,103,104,105])"
      ],
      "execution_count": 0,
      "outputs": []
    },
    {
      "metadata": {
        "id": "Kckh3AttZ1lG",
        "colab_type": "text"
      },
      "cell_type": "markdown",
      "source": [
        "Oluşturduğumuz serieslardan bir tanesini yazdırıp, nasıl göründüğüne bakalım."
      ]
    },
    {
      "metadata": {
        "id": "OADrqpTPZ6RB",
        "colab_type": "code",
        "outputId": "8930a351-95b1-449f-d9c6-a80d7b6e81b5",
        "colab": {
          "base_uri": "https://localhost:8080/",
          "height": 136
        }
      },
      "cell_type": "code",
      "source": [
        "print(isimSeries)"
      ],
      "execution_count": 3,
      "outputs": [
        {
          "output_type": "stream",
          "text": [
            "0     Selim\n",
            "1       Ali\n",
            "2      Veli\n",
            "3     Fatma\n",
            "4      Ayşe\n",
            "5    Zeynep\n",
            "dtype: object\n"
          ],
          "name": "stdout"
        }
      ]
    },
    {
      "metadata": {
        "id": "wwu89RckZ-8B",
        "colab_type": "text"
      },
      "cell_type": "markdown",
      "source": [
        "Artık serieslerimizi bir dataframe haline getirebiliriz."
      ]
    },
    {
      "metadata": {
        "id": "y3MrSGs0aEO4",
        "colab_type": "code",
        "outputId": "ec3f303c-0f76-49a7-b546-ec63a2a87fea",
        "colab": {
          "base_uri": "https://localhost:8080/",
          "height": 136
        }
      },
      "cell_type": "code",
      "source": [
        "bolumdf = pd.DataFrame({\"Ogrenci Adı\" : isimSeries, \"Okul No\" : okulNoSeries, \"Notlar\" : notlarSeries}) #bolumdf adında bir df oluşturduk.\n",
        "print(bolumdf) #dataframe'in nasıl göründüğüne bakmak için yazdırıyoruz."
      ],
      "execution_count": 4,
      "outputs": [
        {
          "output_type": "stream",
          "text": [
            "   Notlar Ogrenci Adı  Okul No\n",
            "0      80       Selim      100\n",
            "1      75         Ali      101\n",
            "2      15        Veli      102\n",
            "3      48       Fatma      103\n",
            "4      56        Ayşe      104\n",
            "5      75      Zeynep      105\n"
          ],
          "name": "stdout"
        }
      ]
    },
    {
      "metadata": {
        "id": "XT_4TXjYalY0",
        "colab_type": "text"
      },
      "cell_type": "markdown",
      "source": [
        "dataframe de ilk 5 kayıtı yazdıralım. "
      ]
    },
    {
      "metadata": {
        "id": "FaLludO-by9T",
        "colab_type": "code",
        "outputId": "825fe698-249d-4329-8492-1a256fdb5aac",
        "colab": {
          "base_uri": "https://localhost:8080/",
          "height": 119
        }
      },
      "cell_type": "code",
      "source": [
        "print(bolumdf.head()) #head fonksiyonun default değeri 5'tir."
      ],
      "execution_count": 5,
      "outputs": [
        {
          "output_type": "stream",
          "text": [
            "   Notlar Ogrenci Adı  Okul No\n",
            "0      80       Selim      100\n",
            "1      75         Ali      101\n",
            "2      15        Veli      102\n",
            "3      48       Fatma      103\n",
            "4      56        Ayşe      104\n"
          ],
          "name": "stdout"
        }
      ]
    },
    {
      "metadata": {
        "id": "l5__auzhcArY",
        "colab_type": "text"
      },
      "cell_type": "markdown",
      "source": [
        "Peki ilk 3 kayıtı yazdırmak istersek:"
      ]
    },
    {
      "metadata": {
        "id": "HZxXEs5GcDlJ",
        "colab_type": "code",
        "outputId": "6f4407c2-64a5-466e-baf2-1c0bfd519cb4",
        "colab": {
          "base_uri": "https://localhost:8080/",
          "height": 85
        }
      },
      "cell_type": "code",
      "source": [
        "print(bolumdf.head(3))"
      ],
      "execution_count": 0,
      "outputs": [
        {
          "output_type": "stream",
          "text": [
            "   Notlar Ogrenci Adı  Okul No\n",
            "0      80       Selim      100\n",
            "1      75         Ali      101\n",
            "2      15        Veli      102\n"
          ],
          "name": "stdout"
        }
      ]
    },
    {
      "metadata": {
        "id": "UL0cUEyscRJV",
        "colab_type": "text"
      },
      "cell_type": "markdown",
      "source": [
        "Dataframe'de ki son 5 datayı yazdıralım.\n"
      ]
    },
    {
      "metadata": {
        "id": "076VgA0xcZGV",
        "colab_type": "code",
        "outputId": "6522952b-414d-489d-d35c-e1b7b8986ea0",
        "colab": {
          "base_uri": "https://localhost:8080/",
          "height": 119
        }
      },
      "cell_type": "code",
      "source": [
        "print(bolumdf.tail()) #tail fonksiyonun default değeri 5'tir."
      ],
      "execution_count": 0,
      "outputs": [
        {
          "output_type": "stream",
          "text": [
            "   Notlar Ogrenci Adı  Okul No\n",
            "1      75         Ali      101\n",
            "2      15        Veli      102\n",
            "3      48       Fatma      103\n",
            "4      56        Ayşe      104\n",
            "5      75      Zeynep      105\n"
          ],
          "name": "stdout"
        }
      ]
    },
    {
      "metadata": {
        "id": "VUwKnXq_cgM3",
        "colab_type": "text"
      },
      "cell_type": "markdown",
      "source": [
        "Peki son 3 datayı yazdırmak istersek: "
      ]
    },
    {
      "metadata": {
        "id": "y_hJcQ7gcjSB",
        "colab_type": "code",
        "outputId": "bc88be77-32c7-48b8-fd11-0e9c715b5610",
        "colab": {
          "base_uri": "https://localhost:8080/",
          "height": 85
        }
      },
      "cell_type": "code",
      "source": [
        "print(bolumdf.tail(3))"
      ],
      "execution_count": 0,
      "outputs": [
        {
          "output_type": "stream",
          "text": [
            "   Notlar Ogrenci Adı  Okul No\n",
            "3      48       Fatma      103\n",
            "4      56        Ayşe      104\n",
            "5      75      Zeynep      105\n"
          ],
          "name": "stdout"
        }
      ]
    },
    {
      "metadata": {
        "id": "VvIoKN4ocwW3",
        "colab_type": "text"
      },
      "cell_type": "markdown",
      "source": [
        "Dataframe'de ki kolonların adını yazdıralım."
      ]
    },
    {
      "metadata": {
        "id": "4TYhSaQ5c73L",
        "colab_type": "code",
        "outputId": "cf6622a2-4c1f-4697-9a2d-09606e2b3a43",
        "colab": {
          "base_uri": "https://localhost:8080/",
          "height": 34
        }
      },
      "cell_type": "code",
      "source": [
        "print(bolumdf.columns)"
      ],
      "execution_count": 0,
      "outputs": [
        {
          "output_type": "stream",
          "text": [
            "Index(['Notlar', 'Ogrenci Adı', 'Okul No'], dtype='object')\n"
          ],
          "name": "stdout"
        }
      ]
    },
    {
      "metadata": {
        "id": "AvInQvT9dKB3",
        "colab_type": "text"
      },
      "cell_type": "markdown",
      "source": [
        "Dataframe' de ki bir kolondaki dataları yazdıralım."
      ]
    },
    {
      "metadata": {
        "id": "IekA7FRfdQ9p",
        "colab_type": "code",
        "outputId": "87ac798b-c532-48ec-c817-652a0f2b01f5",
        "colab": {
          "base_uri": "https://localhost:8080/",
          "height": 136
        }
      },
      "cell_type": "code",
      "source": [
        "print(bolumdf[\"Okul No\"])"
      ],
      "execution_count": 0,
      "outputs": [
        {
          "output_type": "stream",
          "text": [
            "0    100\n",
            "1    101\n",
            "2    102\n",
            "3    103\n",
            "4    104\n",
            "5    105\n",
            "Name: Okul No, dtype: int64\n"
          ],
          "name": "stdout"
        }
      ]
    },
    {
      "metadata": {
        "id": "rECTxwVMhOA2",
        "colab_type": "text"
      },
      "cell_type": "markdown",
      "source": [
        "Dataframe yeni bir özellik(kolon ekleyelim)"
      ]
    },
    {
      "metadata": {
        "id": "5mMUWpFPhVlP",
        "colab_type": "code",
        "outputId": "0f526640-9263-4db5-9952-3bef7eac020b",
        "colab": {
          "base_uri": "https://localhost:8080/",
          "height": 136
        }
      },
      "cell_type": "code",
      "source": [
        "bolumdf[\"Soyisim\"] = [\"Sürücü\",\"aa\",\"bb\",\"cc\",\"dd\",\"ee\"]\n",
        "print(bolumdf)"
      ],
      "execution_count": 10,
      "outputs": [
        {
          "output_type": "stream",
          "text": [
            "   Notlar Ogrenci Adı  Okul No Soyisim\n",
            "0      80       Selim      100  Sürücü\n",
            "1      75         Ali      101      aa\n",
            "2      15        Veli      102      bb\n",
            "3      48       Fatma      103      cc\n",
            "4      56        Ayşe      104      dd\n",
            "5      75      Zeynep      105      ee\n"
          ],
          "name": "stdout"
        }
      ]
    },
    {
      "metadata": {
        "id": "V6Monbi0hfu7",
        "colab_type": "text"
      },
      "cell_type": "markdown",
      "source": [
        "Yeni eklediğimiz kolonu yazdıralım. Sadece Yeni eklediğimiz kolonu yazdıracağız."
      ]
    },
    {
      "metadata": {
        "id": "wTa2fW5phkEu",
        "colab_type": "code",
        "outputId": "d40f25df-517f-4d7d-d2e0-4ebb432e98c6",
        "colab": {
          "base_uri": "https://localhost:8080/",
          "height": 136
        }
      },
      "cell_type": "code",
      "source": [
        "print(bolumdf[\"Soyisim\"])"
      ],
      "execution_count": 0,
      "outputs": [
        {
          "output_type": "stream",
          "text": [
            "0    Sürücü\n",
            "1        aa\n",
            "2        bb\n",
            "3        cc\n",
            "4        dd\n",
            "5        ee\n",
            "Name: Soyisim, dtype: object\n"
          ],
          "name": "stdout"
        }
      ]
    },
    {
      "metadata": {
        "id": "WGNx_qa8eVit",
        "colab_type": "text"
      },
      "cell_type": "markdown",
      "source": [
        "DataFrame ile ilgili genel bilgiler elde etmek"
      ]
    },
    {
      "metadata": {
        "id": "shq7P7ITeVTs",
        "colab_type": "code",
        "outputId": "39ac21fc-bfcd-4f67-9ebf-005e4d60f3a1",
        "colab": {
          "base_uri": "https://localhost:8080/",
          "height": 170
        }
      },
      "cell_type": "code",
      "source": [
        "print(bolumdf.info())"
      ],
      "execution_count": 0,
      "outputs": [
        {
          "output_type": "stream",
          "text": [
            "<class 'pandas.core.frame.DataFrame'>\n",
            "RangeIndex: 6 entries, 0 to 5\n",
            "Data columns (total 3 columns):\n",
            "Notlar         6 non-null int64\n",
            "Ogrenci Adı    6 non-null object\n",
            "Okul No        6 non-null int64\n",
            "dtypes: int64(2), object(1)\n",
            "memory usage: 224.0+ bytes\n",
            "None\n"
          ],
          "name": "stdout"
        }
      ]
    },
    {
      "metadata": {
        "id": "VXviVWFcgoe6",
        "colab_type": "text"
      },
      "cell_type": "markdown",
      "source": [
        "Satır ve sütun sayılarını ögrenme : "
      ]
    },
    {
      "metadata": {
        "id": "Pad1_o1zgsjd",
        "colab_type": "code",
        "colab": {
          "base_uri": "https://localhost:8080/",
          "height": 34
        },
        "outputId": "7608fdc3-616e-4d43-b4bf-28c774e2fe5c"
      },
      "cell_type": "code",
      "source": [
        "print(bolumdf.shape) #ilki row(satır) sayısı , ikincisi columns(kolon) sayısıdır."
      ],
      "execution_count": 8,
      "outputs": [
        {
          "output_type": "stream",
          "text": [
            "(6, 3)\n"
          ],
          "name": "stdout"
        }
      ]
    },
    {
      "metadata": {
        "id": "6iic1NOceoHi",
        "colab_type": "text"
      },
      "cell_type": "markdown",
      "source": [
        "info fonksiyonunu kullandığımızda birden fazla bilgi görünmektedir.\n",
        "data sayısı, kolon sayısı gibi. Kolonların tipleri vs.\n",
        "Sadece kolonları ve veri tiplerini öğrenmek istiyorsak : "
      ]
    },
    {
      "metadata": {
        "id": "41AMdkhpefpN",
        "colab_type": "code",
        "outputId": "dd6d70fe-f8cf-41cb-d71b-dc34601ed1ed",
        "colab": {
          "base_uri": "https://localhost:8080/",
          "height": 85
        }
      },
      "cell_type": "code",
      "source": [
        "print(bolumdf.dtypes)"
      ],
      "execution_count": 0,
      "outputs": [
        {
          "output_type": "stream",
          "text": [
            "Notlar          int64\n",
            "Ogrenci Adı    object\n",
            "Okul No         int64\n",
            "dtype: object\n"
          ],
          "name": "stdout"
        }
      ]
    },
    {
      "metadata": {
        "id": "L24XXF-Pe59o",
        "colab_type": "text"
      },
      "cell_type": "markdown",
      "source": [
        "**Not** : Pandasta string object türünde veri tipidir. Yukarıda bir yanlışlık yoktur."
      ]
    },
    {
      "metadata": {
        "id": "WLcI-72JfCWj",
        "colab_type": "text"
      },
      "cell_type": "markdown",
      "source": [
        "Eğer sadece number (int) tipi kolonları yazdıralım. Kolonlara ek olarak da , o kolonlarla ilgili max, min, ortalaması(mean) gibi özellikleride verir."
      ]
    },
    {
      "metadata": {
        "id": "CEXLgAp9ffZO",
        "colab_type": "code",
        "outputId": "f0cea1a0-1acb-4148-c3bc-44df80459e15",
        "colab": {
          "base_uri": "https://localhost:8080/",
          "height": 170
        }
      },
      "cell_type": "code",
      "source": [
        "print(bolumdf.describe())"
      ],
      "execution_count": 0,
      "outputs": [
        {
          "output_type": "stream",
          "text": [
            "          Notlar     Okul No\n",
            "count   6.000000    6.000000\n",
            "mean   58.166667  102.500000\n",
            "std    24.555380    1.870829\n",
            "min    15.000000  100.000000\n",
            "25%    50.000000  101.250000\n",
            "50%    65.500000  102.500000\n",
            "75%    75.000000  103.750000\n",
            "max    80.000000  105.000000\n"
          ],
          "name": "stdout"
        }
      ]
    },
    {
      "metadata": {
        "id": "MSbrq9Jbfegr",
        "colab_type": "text"
      },
      "cell_type": "markdown",
      "source": [
        "Eğer kolon ismimiz tek satırdan oluşuyorsa; yani arada boşluk yoksa ; elemanlarını gösterirken aşağıda ki gibi bir yol da izleyebiliriz."
      ]
    },
    {
      "metadata": {
        "id": "1ZhAETFKhFF-",
        "colab_type": "code",
        "colab": {
          "base_uri": "https://localhost:8080/",
          "height": 408
        },
        "outputId": "dc9bc965-67a9-4e73-fa2a-3f6264db4174"
      },
      "cell_type": "code",
      "source": [
        "print(bolumdf.Soyisim)\n",
        "print(\"------------------------------\")\n",
        "print(bolumdf['Soyisim'])\n",
        "print(\"-----------------------------------\")\n",
        "print(bolumdf.loc[:,\"Soyisim\"])"
      ],
      "execution_count": 15,
      "outputs": [
        {
          "output_type": "stream",
          "text": [
            "0    Sürücü\n",
            "1        aa\n",
            "2        bb\n",
            "3        cc\n",
            "4        dd\n",
            "5        ee\n",
            "Name: Soyisim, dtype: object\n",
            "------------------------------\n",
            "0    Sürücü\n",
            "1        aa\n",
            "2        bb\n",
            "3        cc\n",
            "4        dd\n",
            "5        ee\n",
            "Name: Soyisim, dtype: object\n",
            "-----------------------------------\n",
            "0    Sürücü\n",
            "1        aa\n",
            "2        bb\n",
            "3        cc\n",
            "4        dd\n",
            "5        ee\n",
            "Name: Soyisim, dtype: object\n"
          ],
          "name": "stdout"
        }
      ]
    },
    {
      "metadata": {
        "id": "UIJRqBlPfbYE",
        "colab_type": "text"
      },
      "cell_type": "markdown",
      "source": [
        "Peki çift indexli kayıtları gösterelim."
      ]
    },
    {
      "metadata": {
        "id": "Ok6EmVbvilAo",
        "colab_type": "code",
        "colab": {
          "base_uri": "https://localhost:8080/",
          "height": 85
        },
        "outputId": "4887bb76-3a69-49ab-9106-8d9eb20ebf5b"
      },
      "cell_type": "code",
      "source": [
        "print(bolumdf.loc[::2,\"Soyisim\"]) #dikkat 2. parametre dahildir. Numpy da dahil değildi ama Pandas ta bu dahil"
      ],
      "execution_count": 17,
      "outputs": [
        {
          "output_type": "stream",
          "text": [
            "0    Sürücü\n",
            "2        bb\n",
            "4        dd\n",
            "Name: Soyisim, dtype: object\n"
          ],
          "name": "stdout"
        }
      ]
    },
    {
      "metadata": {
        "id": "BGOG_PvdjBKp",
        "colab_type": "text"
      },
      "cell_type": "markdown",
      "source": [
        "Peki ögrenci adından soyisimine kadar yazdıralım; yani ilk kolonu yazdırmayacağız."
      ]
    },
    {
      "metadata": {
        "id": "oGWWDen-jhTf",
        "colab_type": "code",
        "colab": {
          "base_uri": "https://localhost:8080/",
          "height": 119
        },
        "outputId": "cee3edb4-63cd-44cc-d3e4-8d5908f5457e"
      },
      "cell_type": "code",
      "source": [
        "print(bolumdf.loc[:4,\"Ogrenci Adı\":\"Soyisim\"])"
      ],
      "execution_count": 18,
      "outputs": [
        {
          "output_type": "stream",
          "text": [
            "  Ogrenci Adı  Okul No Soyisim\n",
            "0       Selim      100  Sürücü\n",
            "1         Ali      101      aa\n",
            "2        Veli      102      bb\n",
            "3       Fatma      103      cc\n",
            "4        Ayşe      104      dd\n"
          ],
          "name": "stdout"
        }
      ]
    },
    {
      "metadata": {
        "id": "z1-5pGQvjhC-",
        "colab_type": "text"
      },
      "cell_type": "markdown",
      "source": [
        "Peki öğrenci adı ve soyadını yazdıralım"
      ]
    },
    {
      "metadata": {
        "id": "ojTKWOxqklwx",
        "colab_type": "code",
        "colab": {
          "base_uri": "https://localhost:8080/",
          "height": 136
        },
        "outputId": "516dfa1c-cce0-44c9-fdcf-681ffacd20ef"
      },
      "cell_type": "code",
      "source": [
        "print(bolumdf.loc[:, [\"Ogrenci Adı\",\"Soyisim\"]])"
      ],
      "execution_count": 20,
      "outputs": [
        {
          "output_type": "stream",
          "text": [
            "  Ogrenci Adı Soyisim\n",
            "0       Selim  Sürücü\n",
            "1         Ali      aa\n",
            "2        Veli      bb\n",
            "3       Fatma      cc\n",
            "4        Ayşe      dd\n",
            "5      Zeynep      ee\n"
          ],
          "name": "stdout"
        }
      ]
    },
    {
      "metadata": {
        "id": "oB5lIcE8lko1",
        "colab_type": "text"
      },
      "cell_type": "markdown",
      "source": [
        "Kolon adını bilmeden yazdıralım. Yani kolonu ismiyle değil de index numarası vasıtasıyla yazdıralım."
      ]
    },
    {
      "metadata": {
        "id": "WCvaae5_lkIL",
        "colab_type": "code",
        "colab": {
          "base_uri": "https://localhost:8080/",
          "height": 136
        },
        "outputId": "3bb03f6a-6588-4ad9-c9e9-30a2e5307fd5"
      },
      "cell_type": "code",
      "source": [
        "print(bolumdf.iloc[:,2]) "
      ],
      "execution_count": 21,
      "outputs": [
        {
          "output_type": "stream",
          "text": [
            "0    100\n",
            "1    101\n",
            "2    102\n",
            "3    103\n",
            "4    104\n",
            "5    105\n",
            "Name: Okul No, dtype: int64\n"
          ],
          "name": "stdout"
        }
      ]
    }
  ]
}