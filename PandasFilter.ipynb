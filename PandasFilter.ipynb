{
  "nbformat": 4,
  "nbformat_minor": 0,
  "metadata": {
    "colab": {
      "name": "PandasFilter.ipynb",
      "version": "0.3.2",
      "provenance": [],
      "include_colab_link": true
    },
    "kernelspec": {
      "name": "python3",
      "display_name": "Python 3"
    }
  },
  "cells": [
    {
      "cell_type": "markdown",
      "metadata": {
        "id": "view-in-github",
        "colab_type": "text"
      },
      "source": [
        "<a href=\"https://colab.research.google.com/github/selimsurucu/Pandas/blob/master/PandasFilter.ipynb\" target=\"_parent\"><img src=\"https://colab.research.google.com/assets/colab-badge.svg\" alt=\"Open In Colab\"/></a>"
      ]
    },
    {
      "metadata": {
        "id": "nraW3t5PmpYO",
        "colab_type": "text"
      },
      "cell_type": "markdown",
      "source": [
        "Pandas'ı import ediyoruz."
      ]
    },
    {
      "metadata": {
        "id": "lRY1dUDImllN",
        "colab_type": "code",
        "colab": {}
      },
      "cell_type": "code",
      "source": [
        "import pandas as pd"
      ],
      "execution_count": 0,
      "outputs": []
    },
    {
      "metadata": {
        "id": "3DvfDq6vmyFC",
        "colab_type": "text"
      },
      "cell_type": "markdown",
      "source": [
        "Dataframe oluşturuyoruz. "
      ]
    },
    {
      "metadata": {
        "id": "rbZZ-bTwmo5G",
        "colab_type": "code",
        "colab": {
          "base_uri": "https://localhost:8080/",
          "height": 136
        },
        "outputId": "827b0d5c-9d28-4905-803b-32e89df710bc"
      },
      "cell_type": "code",
      "source": [
        "sehirler = pd.Series([\"Istanbul\",\"Tokyo\",\"Atina\",\"Berlin\",\"Cape Town\",\"Londra\"])\n",
        "nufuslar =pd.Series([3000000,5000000,500000,2000000,800000,5000000])\n",
        "veridf = pd.DataFrame({\"sehirler\":sehirler,\"nüfuslar\":nufuslar})\n",
        "print(veridf)"
      ],
      "execution_count": 2,
      "outputs": [
        {
          "output_type": "stream",
          "text": [
            "   nüfuslar   sehirler\n",
            "0   3000000   Istanbul\n",
            "1   5000000      Tokyo\n",
            "2    500000      Atina\n",
            "3   2000000     Berlin\n",
            "4    800000  Cape Town\n",
            "5   5000000     Londra\n"
          ],
          "name": "stdout"
        }
      ]
    },
    {
      "metadata": {
        "id": "LqjNYvQho6Ia",
        "colab_type": "text"
      },
      "cell_type": "markdown",
      "source": [
        "Filtre işlemleri ; belirlediğimiz/ istediğimiz dataları elde etmek için kullanılan bir yapıdır. Yani nüfusu 1000000'dan fazla olan şehirlerin getirilmesi gibi."
      ]
    },
    {
      "metadata": {
        "id": "Z5IMev3DpdPe",
        "colab_type": "code",
        "colab": {
          "base_uri": "https://localhost:8080/",
          "height": 136
        },
        "outputId": "e05740a1-ee10-4870-9237-0a6576a51b77"
      },
      "cell_type": "code",
      "source": [
        "sonuc = veridf.nüfuslar>1000000\n",
        "print(sonuc) #sonuc olarak bize bir seri döndü . 1000000'dan fazla olanlara true, az olanlara false yazdı."
      ],
      "execution_count": 14,
      "outputs": [
        {
          "output_type": "stream",
          "text": [
            "0     True\n",
            "1     True\n",
            "2    False\n",
            "3     True\n",
            "4    False\n",
            "5     True\n",
            "Name: nüfuslar, dtype: bool\n"
          ],
          "name": "stdout"
        }
      ]
    },
    {
      "metadata": {
        "id": "EyaiabeiqjsW",
        "colab_type": "text"
      },
      "cell_type": "markdown",
      "source": [
        "Peki bu sonucu yeni bir kolon olarak dataframemize ekleyelim."
      ]
    },
    {
      "metadata": {
        "id": "qUs_Ti3NqiK1",
        "colab_type": "code",
        "colab": {
          "base_uri": "https://localhost:8080/",
          "height": 136
        },
        "outputId": "13b02353-2d42-4cec-9b72-8e0e889e0e07"
      },
      "cell_type": "code",
      "source": [
        "veridf[\"buyukluk\"]=sonuc\n",
        "print(veridf)"
      ],
      "execution_count": 6,
      "outputs": [
        {
          "output_type": "stream",
          "text": [
            "   nüfuslar   sehirler  buyukluk\n",
            "0   3000000   Istanbul      True\n",
            "1   5000000      Tokyo      True\n",
            "2    500000      Atina     False\n",
            "3   2000000     Berlin      True\n",
            "4    800000  Cape Town     False\n",
            "5   5000000     Londra      True\n"
          ],
          "name": "stdout"
        }
      ]
    },
    {
      "metadata": {
        "id": "x8AiaMJjrBrR",
        "colab_type": "text"
      },
      "cell_type": "markdown",
      "source": [
        "Filtreleme işlemi yaptığımızda bize buyukluk kolonunda ki değerleri true olanları getirecek."
      ]
    },
    {
      "metadata": {
        "id": "cXvf9PB9qjME",
        "colab_type": "code",
        "colab": {
          "base_uri": "https://localhost:8080/",
          "height": 102
        },
        "outputId": "2c634429-aeb8-472b-ca12-eee4ba6cf1b0"
      },
      "cell_type": "code",
      "source": [
        " filtre = veridf.nüfuslar>1000000\n",
        " print(veridf[filtre])"
      ],
      "execution_count": 16,
      "outputs": [
        {
          "output_type": "stream",
          "text": [
            "   nüfuslar  sehirler  buyukluk\n",
            "0   3000000  Istanbul      True\n",
            "1   5000000     Tokyo      True\n",
            "3   2000000    Berlin      True\n",
            "5   5000000    Londra      True\n"
          ],
          "name": "stdout"
        }
      ]
    },
    {
      "metadata": {
        "id": "pBRXhnyssE8l",
        "colab_type": "text"
      },
      "cell_type": "markdown",
      "source": [
        "Şimdi de 5000000'dan daha az nüfusa sahip olanları listeleyelim."
      ]
    },
    {
      "metadata": {
        "id": "iOigN08QrBaZ",
        "colab_type": "code",
        "colab": {
          "base_uri": "https://localhost:8080/",
          "height": 102
        },
        "outputId": "e24adcb6-3039-4c28-a897-acd4298b85fd"
      },
      "cell_type": "code",
      "source": [
        "filtre2 = veridf.nüfuslar<5000000\n",
        "print(veridf[filtre2])"
      ],
      "execution_count": 15,
      "outputs": [
        {
          "output_type": "stream",
          "text": [
            "   nüfuslar   sehirler  buyukluk\n",
            "0   3000000   Istanbul      True\n",
            "2    500000      Atina      True\n",
            "3   2000000     Berlin      True\n",
            "4    800000  Cape Town      True\n"
          ],
          "name": "stdout"
        }
      ]
    },
    {
      "metadata": {
        "id": "AliYnYd4s8OC",
        "colab_type": "text"
      },
      "cell_type": "markdown",
      "source": [
        "Şimdi de 1000000'dan büyük 5000000'dan küçükleri yazdıralım."
      ]
    },
    {
      "metadata": {
        "id": "a8-cFvxvtZTw",
        "colab_type": "code",
        "colab": {
          "base_uri": "https://localhost:8080/",
          "height": 68
        },
        "outputId": "6f68120a-29d2-4f6b-c2a7-09e46af8e4fd"
      },
      "cell_type": "code",
      "source": [
        "print(veridf[filtre&filtre2])"
      ],
      "execution_count": 17,
      "outputs": [
        {
          "output_type": "stream",
          "text": [
            "   nüfuslar  sehirler  buyukluk\n",
            "0   3000000  Istanbul      True\n",
            "3   2000000    Berlin      True\n"
          ],
          "name": "stdout"
        }
      ]
    },
    {
      "metadata": {
        "id": "9CtEjIdYuDA0",
        "colab_type": "text"
      },
      "cell_type": "markdown",
      "source": [
        "Herhangi bir şehri bulalım."
      ]
    },
    {
      "metadata": {
        "id": "qZlLs4bVuDpD",
        "colab_type": "code",
        "colab": {
          "base_uri": "https://localhost:8080/",
          "height": 51
        },
        "outputId": "0b3adae2-9797-4625-e398-838436cb6aab"
      },
      "cell_type": "code",
      "source": [
        "print(veridf[veridf.sehirler == \"Istanbul\"])"
      ],
      "execution_count": 20,
      "outputs": [
        {
          "output_type": "stream",
          "text": [
            "   nüfuslar  sehirler  buyukluk\n",
            "0   3000000  Istanbul      True\n"
          ],
          "name": "stdout"
        }
      ]
    }
  ]
}