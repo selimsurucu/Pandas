{
  "nbformat": 4,
  "nbformat_minor": 0,
  "metadata": {
    "colab": {
      "name": "PandasCont.ipynb",
      "version": "0.3.2",
      "provenance": [],
      "collapsed_sections": [],
      "include_colab_link": true
    },
    "kernelspec": {
      "name": "python3",
      "display_name": "Python 3"
    }
  },
  "cells": [
    {
      "cell_type": "markdown",
      "metadata": {
        "id": "view-in-github",
        "colab_type": "text"
      },
      "source": [
        "<a href=\"https://colab.research.google.com/github/selimsurucu/Pandas/blob/master/PandasCont.ipynb\" target=\"_parent\"><img src=\"https://colab.research.google.com/assets/colab-badge.svg\" alt=\"Open In Colab\"/></a>"
      ]
    },
    {
      "metadata": {
        "id": "gocUzGA8sOss",
        "colab_type": "text"
      },
      "cell_type": "markdown",
      "source": [
        "Pandası import ediyoruz ve yeni dataframe oluşturalım"
      ]
    },
    {
      "metadata": {
        "id": "O1n2HLP3sAGH",
        "colab_type": "code",
        "colab": {
          "base_uri": "https://localhost:8080/",
          "height": 118
        },
        "outputId": "87f6fdc3-30bb-4312-d790-a2626b8900c8"
      },
      "cell_type": "code",
      "source": [
        "import pandas as pd\n",
        "sehirler = pd.Series([\"Ankara\",\"İstanbul\",\"Çankırı\",\"Bursa\",\"Karabük\"])\n",
        "plakaKodu = pd.Series([6,34,18,16,78])\n",
        "nufuslar = pd.Series([3000000,15000000,300000,740000,400000])\n",
        "sehirDf = pd.DataFrame({\"sehirler\":sehirler,\"plakaKodu\":plakaKodu,\"nufus\":nufuslar})\n",
        "print(sehirDf)\n"
      ],
      "execution_count": 1,
      "outputs": [
        {
          "output_type": "stream",
          "text": [
            "      nufus  plakaKodu  sehirler\n",
            "0   3000000          6    Ankara\n",
            "1  15000000         34  İstanbul\n",
            "2    300000         18   Çankırı\n",
            "3    740000         16     Bursa\n",
            "4    400000         78   Karabük\n"
          ],
          "name": "stdout"
        }
      ]
    },
    {
      "metadata": {
        "id": "sQUSGnvUt33S",
        "colab_type": "text"
      },
      "cell_type": "markdown",
      "source": [
        "Bir kolondaki ortalama değeri bulalım. Biz burada Ortalama nüfusu bulacağız."
      ]
    },
    {
      "metadata": {
        "id": "B8LzTZcdt9hD",
        "colab_type": "code",
        "colab": {
          "base_uri": "https://localhost:8080/",
          "height": 34
        },
        "outputId": "fa5c5c0c-2f3a-40aa-aa37-dd01efd5b3bd"
      },
      "cell_type": "code",
      "source": [
        "print(sehirDf.nufus.mean()) #Burada ki mean fonksiyonu Pandas fonksiyonudur."
      ],
      "execution_count": 3,
      "outputs": [
        {
          "output_type": "stream",
          "text": [
            "3888000.0\n"
          ],
          "name": "stdout"
        }
      ]
    },
    {
      "metadata": {
        "id": "d2o4r5hCucTc",
        "colab_type": "text"
      },
      "cell_type": "markdown",
      "source": [
        "Peki numpy kullanarak ortalama hesaplayalım. Ama önce Numpy ı import etmeliyiz. (Numpy hakkında bilgi daha önceki derslerde anlatılmıştır.)"
      ]
    },
    {
      "metadata": {
        "id": "9eOPA2LUuwLH",
        "colab_type": "code",
        "colab": {}
      },
      "cell_type": "code",
      "source": [
        "import numpy as np"
      ],
      "execution_count": 0,
      "outputs": []
    },
    {
      "metadata": {
        "id": "K-kCJIN3u9SB",
        "colab_type": "text"
      },
      "cell_type": "markdown",
      "source": [
        "Peki Numpy da ortalama hesaplama"
      ]
    },
    {
      "metadata": {
        "id": "0rasddwBu8y5",
        "colab_type": "code",
        "colab": {
          "base_uri": "https://localhost:8080/",
          "height": 34
        },
        "outputId": "0a9b6e25-4628-4a56-db40-567d3f13dbd9"
      },
      "cell_type": "code",
      "source": [
        "print(np.mean(sehirDf.nufus))"
      ],
      "execution_count": 5,
      "outputs": [
        {
          "output_type": "stream",
          "text": [
            "3888000.0\n"
          ],
          "name": "stdout"
        }
      ]
    },
    {
      "metadata": {
        "id": "Lle-UKbSvbl9",
        "colab_type": "text"
      },
      "cell_type": "markdown",
      "source": [
        "Şimdide ortalama göre sehirlerimizi sınıflandıralım. Ortalamanın üzerilerinde ki şehirleri yüksek, ortalamanın altındaki yerleri düşük ile yeni bir kolon ekleyelim."
      ]
    },
    {
      "metadata": {
        "id": "wxbUtKYvvrdW",
        "colab_type": "code",
        "colab": {
          "base_uri": "https://localhost:8080/",
          "height": 118
        },
        "outputId": "8d5b5859-248f-46e1-fe02-c75a40d21d70"
      },
      "cell_type": "code",
      "source": [
        "sehirDf[\"nufusYogunlugu\"] = [ \"yüksek\" if nufus > sehirDf.nufus.mean() else \"düşük\" for nufus in sehirDf.nufus]\n",
        "\n",
        "#for nufus in sehirDf.nufus:\n",
        "#  if(nufus > sehirDf.nufus.mean()):\n",
        "#    print(\"yüksek\")    \n",
        "#   else :\n",
        "#    print(\"düşük\")\n",
        "\n",
        "print(sehirDf)"
      ],
      "execution_count": 7,
      "outputs": [
        {
          "output_type": "stream",
          "text": [
            "      nufus  plakaKodu  sehirler nufusYogunlugu\n",
            "0   3000000          6    Ankara          düşük\n",
            "1  15000000         34  İstanbul         yüksek\n",
            "2    300000         18   Çankırı          düşük\n",
            "3    740000         16     Bursa          düşük\n",
            "4    400000         78   Karabük          düşük\n"
          ],
          "name": "stdout"
        }
      ]
    },
    {
      "metadata": {
        "id": "PGwhYeflwh75",
        "colab_type": "text"
      },
      "cell_type": "markdown",
      "source": [
        "[ \"yüksek\" if nufus > sehirDf.nufus.mean() else \"Düşük\" for nufus in sehirDf.nufus] bu ifade List Comprehensive olarak geçmektedir. Dataframe ve listlerde çok işimize yarayan bir kullanımdır."
      ]
    },
    {
      "metadata": {
        "id": "-_dTzKqIx6cz",
        "colab_type": "text"
      },
      "cell_type": "markdown",
      "source": [
        "Bir kolonda ki alanları büyük ve küçük harfle yazdırmak : Ama önce fonksiyonları hatırlayalım."
      ]
    },
    {
      "metadata": {
        "id": "3D9po3qgwqB8",
        "colab_type": "code",
        "colab": {
          "base_uri": "https://localhost:8080/",
          "height": 50
        },
        "outputId": "e2d373ed-1363-4b3d-c3e8-e22b2dce0e03"
      },
      "cell_type": "code",
      "source": [
        "isim = \"Selim\"\n",
        "print(isim.upper())\n",
        "print(isim.lower())"
      ],
      "execution_count": 11,
      "outputs": [
        {
          "output_type": "stream",
          "text": [
            "SELIM\n",
            "selim\n"
          ],
          "name": "stdout"
        }
      ]
    },
    {
      "metadata": {
        "id": "UBJnR1Dtyj0f",
        "colab_type": "text"
      },
      "cell_type": "markdown",
      "source": [
        "Bir kolona uygulayalım"
      ]
    },
    {
      "metadata": {
        "id": "lf7_1X4IyVMN",
        "colab_type": "code",
        "colab": {
          "base_uri": "https://localhost:8080/",
          "height": 218
        },
        "outputId": "8593adf4-4484-4d21-d1f6-915626dd3de3"
      },
      "cell_type": "code",
      "source": [
        "sehirDf.nufusYogunlugu = [yogunluk.upper() for yogunluk in sehirDf.nufusYogunlugu]\n",
        "print(sehirDf.nufusYogunlugu)\n",
        "sehirDf.nufusYogunlugu = [yogunluk.lower() for yogunluk in sehirDf.nufusYogunlugu]\n",
        "print(sehirDf.nufusYogunlugu)"
      ],
      "execution_count": 15,
      "outputs": [
        {
          "output_type": "stream",
          "text": [
            "0     DÜŞÜK\n",
            "1    YÜKSEK\n",
            "2     DÜŞÜK\n",
            "3     DÜŞÜK\n",
            "4     DÜŞÜK\n",
            "Name: nufusYogunlugu, dtype: object\n",
            "0     düşük\n",
            "1    yüksek\n",
            "2     düşük\n",
            "3     düşük\n",
            "4     düşük\n",
            "Name: nufusYogunlugu, dtype: object\n"
          ],
          "name": "stdout"
        }
      ]
    },
    {
      "metadata": {
        "id": "CQsGInYX0Ybc",
        "colab_type": "text"
      },
      "cell_type": "markdown",
      "source": [
        "Dataframe de drop etme işlemi . Drop fonksiyonu kolon ya da satırı drop için kullanılabilir. drop fonksiyounda yer alan axis parametresi silinme işleminin yönünü belirler. axis = 1 y eksininde yani yukarıdan aşağıya silme işlemi yapar eğer axis = 0 girilirse bu x eksenin de satır işlemi demektir."
      ]
    },
    {
      "metadata": {
        "id": "dzsqvosy0gmW",
        "colab_type": "code",
        "colab": {
          "base_uri": "https://localhost:8080/",
          "height": 195
        },
        "outputId": "c30b684e-8759-4f3b-f5d3-7824a7349d72"
      },
      "cell_type": "code",
      "source": [
        "sehirDf.drop([\"nufusYogunlugu\"],axis=1)"
      ],
      "execution_count": 18,
      "outputs": [
        {
          "output_type": "execute_result",
          "data": {
            "text/html": [
              "<div>\n",
              "<style scoped>\n",
              "    .dataframe tbody tr th:only-of-type {\n",
              "        vertical-align: middle;\n",
              "    }\n",
              "\n",
              "    .dataframe tbody tr th {\n",
              "        vertical-align: top;\n",
              "    }\n",
              "\n",
              "    .dataframe thead th {\n",
              "        text-align: right;\n",
              "    }\n",
              "</style>\n",
              "<table border=\"1\" class=\"dataframe\">\n",
              "  <thead>\n",
              "    <tr style=\"text-align: right;\">\n",
              "      <th></th>\n",
              "      <th>nufus</th>\n",
              "      <th>plakaKodu</th>\n",
              "      <th>sehirler</th>\n",
              "    </tr>\n",
              "  </thead>\n",
              "  <tbody>\n",
              "    <tr>\n",
              "      <th>0</th>\n",
              "      <td>3000000</td>\n",
              "      <td>6</td>\n",
              "      <td>Ankara</td>\n",
              "    </tr>\n",
              "    <tr>\n",
              "      <th>1</th>\n",
              "      <td>15000000</td>\n",
              "      <td>34</td>\n",
              "      <td>İstanbul</td>\n",
              "    </tr>\n",
              "    <tr>\n",
              "      <th>2</th>\n",
              "      <td>300000</td>\n",
              "      <td>18</td>\n",
              "      <td>Çankırı</td>\n",
              "    </tr>\n",
              "    <tr>\n",
              "      <th>3</th>\n",
              "      <td>740000</td>\n",
              "      <td>16</td>\n",
              "      <td>Bursa</td>\n",
              "    </tr>\n",
              "    <tr>\n",
              "      <th>4</th>\n",
              "      <td>400000</td>\n",
              "      <td>78</td>\n",
              "      <td>Karabük</td>\n",
              "    </tr>\n",
              "  </tbody>\n",
              "</table>\n",
              "</div>"
            ],
            "text/plain": [
              "      nufus  plakaKodu  sehirler\n",
              "0   3000000          6    Ankara\n",
              "1  15000000         34  İstanbul\n",
              "2    300000         18   Çankırı\n",
              "3    740000         16     Bursa\n",
              "4    400000         78   Karabük"
            ]
          },
          "metadata": {
            "tags": []
          },
          "execution_count": 18
        }
      ]
    },
    {
      "metadata": {
        "id": "eMU1DsOi1YTz",
        "colab_type": "text"
      },
      "cell_type": "markdown",
      "source": [
        "Drop işleminin cevabı bir dataframe'dir ve bu dataframe de nufusYogunlugu alanımız olmadığı görülmektedir.\n",
        "Ama dataframemizi tekrar yazdırdırğımız da alanımızın tekrar durduğunu görürüz."
      ]
    },
    {
      "metadata": {
        "id": "uvX9t0IC1qt6",
        "colab_type": "code",
        "colab": {
          "base_uri": "https://localhost:8080/",
          "height": 118
        },
        "outputId": "678af842-a154-4829-bcc2-b6cbf5c50244"
      },
      "cell_type": "code",
      "source": [
        "print(sehirDf)"
      ],
      "execution_count": 19,
      "outputs": [
        {
          "output_type": "stream",
          "text": [
            "      nufus  plakaKodu  sehirler nufusYogunlugu\n",
            "0   3000000          6    Ankara          düşük\n",
            "1  15000000         34  İstanbul         yüksek\n",
            "2    300000         18   Çankırı          düşük\n",
            "3    740000         16     Bursa          düşük\n",
            "4    400000         78   Karabük          düşük\n"
          ],
          "name": "stdout"
        }
      ]
    },
    {
      "metadata": {
        "id": "FDSeAPsN1vhs",
        "colab_type": "text"
      },
      "cell_type": "markdown",
      "source": [
        "Eğer dataframemizden komple silinmesini istiyorsak, bunun için 3 . bir parametre girmemiz gerekmektedir."
      ]
    },
    {
      "metadata": {
        "id": "SkYrFN8h14jP",
        "colab_type": "code",
        "colab": {}
      },
      "cell_type": "code",
      "source": [
        "sehirDf.drop(['nufusYogunlugu'],axis=1 , inplace = True)"
      ],
      "execution_count": 0,
      "outputs": []
    },
    {
      "metadata": {
        "id": "dwznmuj92HG6",
        "colab_type": "text"
      },
      "cell_type": "markdown",
      "source": [
        "peki tekrar yazdıralım."
      ]
    },
    {
      "metadata": {
        "id": "KBVRnM1Y2O3A",
        "colab_type": "code",
        "colab": {
          "base_uri": "https://localhost:8080/",
          "height": 118
        },
        "outputId": "5e86b82e-b7e9-47cf-df95-18a95335e809"
      },
      "cell_type": "code",
      "source": [
        "print(sehirDf)"
      ],
      "execution_count": 23,
      "outputs": [
        {
          "output_type": "stream",
          "text": [
            "      nufus  plakaKodu  sehirler\n",
            "0   3000000          6    Ankara\n",
            "1  15000000         34  İstanbul\n",
            "2    300000         18   Çankırı\n",
            "3    740000         16     Bursa\n",
            "4    400000         78   Karabük\n"
          ],
          "name": "stdout"
        }
      ]
    },
    {
      "metadata": {
        "id": "2svmtCKh2R7m",
        "colab_type": "text"
      },
      "cell_type": "markdown",
      "source": [
        "Görüldüğü üzere kolonumuz dataframe'den de silinmiş oldu. Burada inplace = True ifadesi bunun dataframe den silineceğini belirtir."
      ]
    },
    {
      "metadata": {
        "id": "jBHwwq4e3Ssm",
        "colab_type": "text"
      },
      "cell_type": "markdown",
      "source": [
        "Şimdide data ya da kolon eklemeyi görelim.\n",
        "\n",
        "Bazen aynı kolonlara sahip dataframelerimiz olabilir. Örneğin internette aldığınız datalar bölge bölge bölünmüş olabilir. Aynı kolonlara sahiptir ama her bölgenin datası ayrı olabilir. Böyle bir durumda dataframelerin birleştirilmesi gerekir.\n",
        "\n",
        "Şuan elimiz de bir dataframe var. biz bu dataframe i 2 ve 3 elamanlı iki adet dataframe olarak böleceğiz ve bunları yeni dataframe olarak tanımlayacağız."
      ]
    },
    {
      "metadata": {
        "id": "uCjiLMlM336I",
        "colab_type": "code",
        "colab": {
          "base_uri": "https://localhost:8080/",
          "height": 202
        },
        "outputId": "315bc8c9-5126-46e5-be68-5bc38d4c11de"
      },
      "cell_type": "code",
      "source": [
        "ilkDf = sehirDf.head(2)\n",
        "ikinciDf = sehirDf.tail(3)\n",
        "print(\"Birinci DataFrame\")\n",
        "print(\"-------------------\")\n",
        "print(ilkDf)\n",
        "print(\"İkinci DataFrame\")\n",
        "print(\"--------------------\")\n",
        "print(ikinciDf)"
      ],
      "execution_count": 26,
      "outputs": [
        {
          "output_type": "stream",
          "text": [
            "Birinci DataFrame\n",
            "-------------------\n",
            "      nufus  plakaKodu  sehirler\n",
            "0   3000000          6    Ankara\n",
            "1  15000000         34  İstanbul\n",
            "İkinci DataFrame\n",
            "--------------------\n",
            "    nufus  plakaKodu sehirler\n",
            "2  300000         18  Çankırı\n",
            "3  740000         16    Bursa\n",
            "4  400000         78  Karabük\n"
          ],
          "name": "stdout"
        }
      ]
    },
    {
      "metadata": {
        "id": "QqR7xWPG4O7v",
        "colab_type": "text"
      },
      "cell_type": "markdown",
      "source": [
        "Şuan elimizde iki farklı dataframe var. Şimdi bu dataframe in datalarını (satırlarını) birleştirelim"
      ]
    },
    {
      "metadata": {
        "id": "2nyIZdyp3-Ro",
        "colab_type": "code",
        "colab": {
          "base_uri": "https://localhost:8080/",
          "height": 118
        },
        "outputId": "65b5d59d-8d83-4220-bae9-75defc44103f"
      },
      "cell_type": "code",
      "source": [
        "yeniDf = pd.concat([ilkDf,ikinciDf],axis = 0)\n",
        "print(yeniDf)"
      ],
      "execution_count": 27,
      "outputs": [
        {
          "output_type": "stream",
          "text": [
            "      nufus  plakaKodu  sehirler\n",
            "0   3000000          6    Ankara\n",
            "1  15000000         34  İstanbul\n",
            "2    300000         18   Çankırı\n",
            "3    740000         16     Bursa\n",
            "4    400000         78   Karabük\n"
          ],
          "name": "stdout"
        }
      ]
    },
    {
      "metadata": {
        "id": "fYOwU9Y_4ltd",
        "colab_type": "text"
      },
      "cell_type": "markdown",
      "source": [
        "yeni oluşturduğumuz dataframe iki dataframe'in birleşimi şeklinde olduğunu gördük."
      ]
    },
    {
      "metadata": {
        "id": "cYcQC8Ih4uiK",
        "colab_type": "text"
      },
      "cell_type": "markdown",
      "source": [
        "Şimdide kolonları ekleyelim. Yani yapacağımız işlem y ekseninde."
      ]
    },
    {
      "metadata": {
        "id": "lkFaho7b4z5j",
        "colab_type": "code",
        "colab": {
          "base_uri": "https://localhost:8080/",
          "height": 118
        },
        "outputId": "332704af-9f5f-4c98-e889-c11180923201"
      },
      "cell_type": "code",
      "source": [
        "nufus = sehirDf.nufus\n",
        "plaka = sehirDf.plakaKodu\n",
        "\n",
        "yeni2Df = pd.concat([nufus,plaka],axis = 1)\n",
        "print(yeni2Df)"
      ],
      "execution_count": 29,
      "outputs": [
        {
          "output_type": "stream",
          "text": [
            "      nufus  plakaKodu\n",
            "0   3000000          6\n",
            "1  15000000         34\n",
            "2    300000         18\n",
            "3    740000         16\n",
            "4    400000         78\n"
          ],
          "name": "stdout"
        }
      ]
    }
  ]
}